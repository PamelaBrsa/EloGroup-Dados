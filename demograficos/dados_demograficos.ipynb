{
 "cells": [
  {
   "cell_type": "code",
   "execution_count": 20,
   "metadata": {},
   "outputs": [],
   "source": [
    "import pandas as pd\n",
    "import plotly.express as px\n",
    "import matplotlib.pyplot as plt"
   ]
  },
  {
   "cell_type": "code",
   "execution_count": 21,
   "metadata": {},
   "outputs": [],
   "source": [
    "df = pd.read_csv(r\"C:\\Users\\pamel\\OneDrive\\Documentos\\Case EloGroup\\demograficos\\demograficos_tratado.csv\", delimiter=';', usecols=lambda column: column != 'Unnamed: 0')"
   ]
  },
  {
   "cell_type": "code",
   "execution_count": 22,
   "metadata": {},
   "outputs": [],
   "source": [
    "# Mudando o nome das colunas para português\n",
    "\n",
    "nome_colunas = {\n",
    "    'Id': 'Id',\n",
    "    'GeographicAreaName': 'NomeÁreaGeográfica',\n",
    "    'TotalPopulation': 'PopulaçãoTotal',\n",
    "    'SexRatio(males per 100 females)': 'ProporçãoGênero(homens por 100 mulheres)',\n",
    "    'Population_Under5Years': 'População_Menos5Anos',\n",
    "    'Population_5to9Years': 'População_5a9Anos',\n",
    "    'Population_10to14Years': 'População_10a14Anos',\n",
    "    'Population_15to19Years': 'População_15a19Anos',\n",
    "    'Population_20to24Years': 'População_20a24Anos',\n",
    "    'Population_25to34Years': 'População_25a34Anos',\n",
    "    'Population_35to44Years': 'População_35a44Anos',\n",
    "    'Population_45to54Years': 'População_45a54Anos',\n",
    "    'Population_55to59Years': 'População_55a59Anos',\n",
    "    'Population_60to64Years': 'População_60a64Anos',\n",
    "    'Population_65to74Years': 'População_65a74Anos',\n",
    "    'Population_75to84Years': 'População_75a84Anos',\n",
    "    'Population_85YearsAndOver': 'População_85AnosEAcima',\n",
    "    'MedianAgeInYears': 'IdadeMédiaEmAnos'\n",
    "}\n",
    "\n",
    "# Aplicando a mudança de nome das colunas\n",
    "df.rename(columns=nome_colunas, inplace=True)"
   ]
  },
  {
   "cell_type": "code",
   "execution_count": 23,
   "metadata": {},
   "outputs": [],
   "source": [
    "colunas = ['NomeÁreaGeográfica', 'População_35a44Anos', 'População_45a54Anos', 'População_55a59Anos', 'População_60a64Anos']"
   ]
  },
  {
   "cell_type": "code",
   "execution_count": 24,
   "metadata": {},
   "outputs": [],
   "source": [
    "# Filtrar DataFrame para obter apenas as colunas de interesse\n",
    "df_filtrado1 = df.loc[:, colunas]"
   ]
  },
  {
   "cell_type": "code",
   "execution_count": 25,
   "metadata": {},
   "outputs": [],
   "source": [
    "df_filtrado1.to_csv('zipCodeIdade.csv', index=False)"
   ]
  },
  {
   "cell_type": "code",
   "execution_count": 26,
   "metadata": {},
   "outputs": [
    {
     "data": {
      "text/plain": [
       "0        ZCTA5 35004\n",
       "1        ZCTA5 35005\n",
       "2        ZCTA5 35006\n",
       "3        ZCTA5 35007\n",
       "4        ZCTA5 35010\n",
       "            ...     \n",
       "33115    ZCTA5 00979\n",
       "33116    ZCTA5 00982\n",
       "33117    ZCTA5 00983\n",
       "33118    ZCTA5 00985\n",
       "33119    ZCTA5 00987\n",
       "Name: NomeÁreaGeográfica, Length: 33120, dtype: object"
      ]
     },
     "metadata": {},
     "output_type": "display_data"
    }
   ],
   "source": [
    "# Exibir o nome da área geográfica\n",
    "display(df_filtrado1['NomeÁreaGeográfica'])"
   ]
  }
 ],
 "metadata": {
  "kernelspec": {
   "display_name": "Python 3",
   "language": "python",
   "name": "python3"
  },
  "language_info": {
   "codemirror_mode": {
    "name": "ipython",
    "version": 3
   },
   "file_extension": ".py",
   "mimetype": "text/x-python",
   "name": "python",
   "nbconvert_exporter": "python",
   "pygments_lexer": "ipython3",
   "version": "3.11.1"
  }
 },
 "nbformat": 4,
 "nbformat_minor": 2
}
