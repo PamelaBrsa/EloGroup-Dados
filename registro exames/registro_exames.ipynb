{
 "cells": [
  {
   "cell_type": "code",
   "execution_count": 2,
   "metadata": {},
   "outputs": [],
   "source": [
    "import pandas as pd\n",
    "import plotly.express as px\n",
    "import matplotlib.pyplot as plt"
   ]
  },
  {
   "cell_type": "code",
   "execution_count": 3,
   "metadata": {},
   "outputs": [],
   "source": [
    "df = pd.read_csv(r\"C:\\Users\\pamel\\OneDrive\\Documentos\\Case EloGroup\\registro exames\\transactional_data.csv\", delimiter=';', decimal=',', encoding='utf-8')\n"
   ]
  },
  {
   "cell_type": "code",
   "execution_count": 4,
   "metadata": {},
   "outputs": [],
   "source": [
    "# Convertendo 'Date of birth' para datetime\n",
    "\n",
    "df['Date of birth'] = pd.to_datetime(df['Date of birth'], format='%d/%m/%Y %H:%M:%S')\n"
   ]
  },
  {
   "cell_type": "code",
   "execution_count": 5,
   "metadata": {},
   "outputs": [],
   "source": [
    "# Ano atual\n",
    "data_atual = pd.Timestamp.now()"
   ]
  },
  {
   "cell_type": "code",
   "execution_count": 6,
   "metadata": {},
   "outputs": [],
   "source": [
    "# Calcular a idade\n",
    "df['Date of birth'] = (data_atual - df['Date of birth']).astype('<m8[Y]')"
   ]
  },
  {
   "cell_type": "code",
   "execution_count": 10,
   "metadata": {},
   "outputs": [
    {
     "data": {
      "text/plain": [
       "Index(['Patient Id', 'Gender', 'Date of birth', 'Date of service',\n",
       "       'Service Id', 'Lab Id', 'CodItem', 'Testing Cost'],\n",
       "      dtype='object')"
      ]
     },
     "metadata": {},
     "output_type": "display_data"
    }
   ],
   "source": [
    "display(df.columns)"
   ]
  },
  {
   "cell_type": "code",
   "execution_count": 11,
   "metadata": {},
   "outputs": [],
   "source": [
    "# Renomeando as colunas\n",
    "\n",
    "df.rename(columns={'Patient Id': 'Identificação do Paciente',\n",
    "                   'Gender': 'Gênero',\n",
    "                   'Date of birth': 'Idade',\n",
    "                   'Date of service': 'Data do Atendimento',\n",
    "                   'Service Id': 'ID do Serviço',\n",
    "                   'Lab Id': 'ID do Laboratório',\n",
    "                   'CodItem': 'Código do Item',\n",
    "                   'Testing Cost': 'Custo do Teste'}, inplace=True)"
   ]
  },
  {
   "cell_type": "code",
   "execution_count": 12,
   "metadata": {},
   "outputs": [
    {
     "data": {
      "text/plain": [
       "Index(['Identificação do Paciente', 'Gênero', 'Idade', 'Data do Atendimento',\n",
       "       'ID do Serviço', 'ID do Laboratório', 'Código do Item',\n",
       "       'Custo do Teste'],\n",
       "      dtype='object')"
      ]
     },
     "metadata": {},
     "output_type": "display_data"
    }
   ],
   "source": [
    "display(df.columns)"
   ]
  },
  {
   "cell_type": "code",
   "execution_count": null,
   "metadata": {},
   "outputs": [],
   "source": []
  },
  {
   "cell_type": "code",
   "execution_count": 146,
   "metadata": {},
   "outputs": [
    {
     "data": {
      "image/png": "[encoded data removed]",
      "text/plain": [
       "<Figure size 640x480 with 1 Axes>"
      ]
     },
     "metadata": {},
     "output_type": "display_data"
    }
   ],
   "source": [
    "plt.hist(df['Idade'], bins=30, color='red')\n",
    "plt.xlabel('Idade')\n",
    "plt.ylabel('Custo do Teste')\n",
    "plt.title('Custo x Idade')\n",
    "plt.show()\n",
    "\n",
    "\n"
   ]
  }
 ],
 "metadata": {
  "kernelspec": {
   "display_name": "Python 3",
   "language": "python",
   "name": "python3"
  },
  "language_info": {
   "codemirror_mode": {
    "name": "ipython",
    "version": 3
   },
   "file_extension": ".py",
   "mimetype": "text/x-python",
   "name": "python",
   "nbconvert_exporter": "python",
   "pygments_lexer": "ipython3",
   "version": "3.11.1"
  }
 },
 "nbformat": 4,
 "nbformat_minor": 2
}
