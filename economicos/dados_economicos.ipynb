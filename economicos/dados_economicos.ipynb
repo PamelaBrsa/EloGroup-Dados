{
 "cells": [
  {
   "cell_type": "code",
   "execution_count": 17,
   "metadata": {},
   "outputs": [],
   "source": [
    "import pandas as pd\n",
    "import plotly.express as px\n",
    "import matplotlib.pyplot as plt"
   ]
  },
  {
   "cell_type": "code",
   "execution_count": 18,
   "metadata": {},
   "outputs": [],
   "source": [
    "df = pd.read_csv(r\"C:\\Users\\pamel\\OneDrive\\Documentos\\Case EloGroup\\economicos\\EconomicData_ZCTAs.csv\",sep=';')"
   ]
  },
  {
   "cell_type": "code",
   "execution_count": 19,
   "metadata": {},
   "outputs": [],
   "source": [
    "# Renomeando as colunas\n",
    "\n",
    "df.rename(columns={\n",
    "    'Unnamed: 0': 'Indice',\n",
    "    'id': 'ID',\n",
    "    'Geographic Area Name': 'Nome da Área Geográfica',\n",
    "    'TotalHouseholds_LessThan$10.000': 'Total de Famílias Com Renda Inferior a $10.000',\n",
    "    'TotalHouseholds_$10.000to$14.999': 'Total de Famílias Com Renda de $10.000 a $14.999',\n",
    "    'TotalHouseholds_$15.000to$24.999': 'Total de Famílias Com Renda de $15.000 a $24.999',\n",
    "    'TotalHouseholds_$25.000to$34.999': 'Total de Famílias Com Renda de $25.000 a $34.999',\n",
    "    'TotalHouseholds_$35.000to$49.999': 'Total de Famílias Com Renda de $35.000 a $49.999',\n",
    "    'TotalHouseholds_$50.000to$74.999': 'Total de Famílias Com Renda de $50.000 a $74.999',\n",
    "    'TotalHouseholds_$75.000to$99.999': 'Total de Famílias Com Renda de $75.000 a $99.999',\n",
    "    'TotalHouseholds_$100.000to$149.999': 'Total de Famílias Com Renda de $100.000 a $149.999',\n",
    "    'TotalHouseholds_$150.000to$199.999': 'Total de Famílias Com Renda de $150.000 a $199.999',\n",
    "    'TotalHouseholds_$200.000OrMore': 'Total de Famílias Com Renda de $200.000 ou Mais'\n",
    "}, inplace=True)"
   ]
  },
  {
   "cell_type": "code",
   "execution_count": 20,
   "metadata": {},
   "outputs": [],
   "source": [
    "# Colunas de interesse\n",
    "colunas = ['Nome da Área Geográfica','Total de Famílias Com Renda de $100.000 a $149.999','Total de Famílias Com Renda de $150.000 a $199.999','Total de Famílias Com Renda de $200.000 ou Mais']"
   ]
  },
  {
   "cell_type": "code",
   "execution_count": 21,
   "metadata": {},
   "outputs": [],
   "source": [
    "df_filtrado = df.loc[:, colunas]"
   ]
  },
  {
   "cell_type": "code",
   "execution_count": null,
   "metadata": {},
   "outputs": [],
   "source": [
    "df_filtrado.to_csv('zipCodeRenda.csv', index=False)"
   ]
  },
  {
   "cell_type": "code",
   "execution_count": 22,
   "metadata": {},
   "outputs": [
    {
     "name": "stdout",
     "output_type": "stream",
     "text": [
      "0         ZCTA5 35004\n",
      "1         ZCTA5 35005\n",
      "2         ZCTA5 35006\n",
      "3         ZCTA5 35007\n",
      "4         ZCTA5 35010\n",
      "             ...     \n",
      "629275    ZCTA5 00979\n",
      "629276    ZCTA5 00982\n",
      "629277    ZCTA5 00983\n",
      "629278    ZCTA5 00985\n",
      "629279    ZCTA5 00987\n",
      "Name: Nome da Área Geográfica, Length: 629280, dtype: object\n"
     ]
    }
   ],
   "source": [
    "print(df_filtrado['Nome da Área Geográfica'])"
   ]
  }
 ],
 "metadata": {
  "kernelspec": {
   "display_name": "Python 3",
   "language": "python",
   "name": "python3"
  },
  "language_info": {
   "codemirror_mode": {
    "name": "ipython",
    "version": 3
   },
   "file_extension": ".py",
   "mimetype": "text/x-python",
   "name": "python",
   "nbconvert_exporter": "python",
   "pygments_lexer": "ipython3",
   "version": "3.11.1"
  }
 },
 "nbformat": 4,
 "nbformat_minor": 2
}
