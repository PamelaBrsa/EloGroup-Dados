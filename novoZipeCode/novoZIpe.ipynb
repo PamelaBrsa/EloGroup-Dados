{
 "cells": [
  {
   "cell_type": "code",
   "execution_count": 61,
   "metadata": {},
   "outputs": [],
   "source": [
    "import pandas as pd\n",
    "import matplotlib.pyplot as plt"
   ]
  },
  {
   "cell_type": "code",
   "execution_count": 45,
   "metadata": {},
   "outputs": [],
   "source": [
    "df = pd.read_csv(r\"C:\\Users\\pamel\\OneDrive\\Documentos\\Case EloGroup\\novoZipeCode\\novo_arquivo.csv\")"
   ]
  },
  {
   "cell_type": "code",
   "execution_count": 48,
   "metadata": {},
   "outputs": [],
   "source": [
    "# Obter uma lista dos códigos únicos na coluna 'Nova_Coluna'\n",
    "codigos_unicos = df['Nova_Coluna'].str.split(',').explode().unique()"
   ]
  },
  {
   "cell_type": "code",
   "execution_count": 49,
   "metadata": {},
   "outputs": [
    {
     "name": "stderr",
     "output_type": "stream",
     "text": [
      "C:\\Users\\pamel\\AppData\\Local\\Temp\\ipykernel_11896\\398254236.py:2: FutureWarning: elementwise comparison failed; returning scalar instead, but in the future will perform elementwise comparison\n",
      "  codigos_nao_presentes = [codigo for codigo in codigos_unicos if codigo not in df['Zipcode Existente'].unique()]\n"
     ]
    }
   ],
   "source": [
    "# Filtrar os códigos únicos para incluir apenas aqueles que não estão presentes na coluna 'Zipcode Existente'\n",
    "codigos_nao_presentes = [codigo for codigo in codigos_unicos if codigo not in df['Zipcode Existente'].unique()]\n"
   ]
  },
  {
   "cell_type": "code",
   "execution_count": 50,
   "metadata": {},
   "outputs": [],
   "source": [
    "# Contar a frequência de cada código único filtrado\n",
    "frequencia_codigos = df['Nova_Coluna'].str.split(',').explode().value_counts()"
   ]
  },
  {
   "cell_type": "code",
   "execution_count": 51,
   "metadata": {},
   "outputs": [],
   "source": [
    "# Filtrar a frequência para incluir apenas os códigos não presentes na coluna 'Zipcode Existente'\n",
    "frequencia_codigos = frequencia_codigos[codigos_nao_presentes]"
   ]
  },
  {
   "cell_type": "code",
   "execution_count": 52,
   "metadata": {},
   "outputs": [],
   "source": [
    "# Classificar os códigos pela frequência em ordem decrescente\n",
    "frequencia_codigos = frequencia_codigos.sort_values(ascending=False)"
   ]
  },
  {
   "cell_type": "code",
   "execution_count": null,
   "metadata": {},
   "outputs": [],
   "source": [
    "pd.set_option('display.max_rows', None)\n",
    "display(frequencia_codigos)"
   ]
  }
 ],
 "metadata": {
  "kernelspec": {
   "display_name": "Python 3",
   "language": "python",
   "name": "python3"
  },
  "language_info": {
   "codemirror_mode": {
    "name": "ipython",
    "version": 3
   },
   "file_extension": ".py",
   "mimetype": "text/x-python",
   "name": "python",
   "nbconvert_exporter": "python",
   "pygments_lexer": "ipython3",
   "version": "3.11.1"
  }
 },
 "nbformat": 4,
 "nbformat_minor": 2
}
